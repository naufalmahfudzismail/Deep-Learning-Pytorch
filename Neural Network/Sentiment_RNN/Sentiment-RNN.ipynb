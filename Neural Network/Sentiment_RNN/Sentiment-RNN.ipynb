{
 "cells": [
  {
   "cell_type": "code",
   "execution_count": 2,
   "metadata": {},
   "outputs": [
    {
     "name": "stdout",
     "output_type": "stream",
     "text": [
      "bromwell high is a cartoon comedy . it ran at the same time as some other programs about school life  such as  teachers  . my   years in the teaching profession lead me to believe that bromwell high  s satire is much closer to reality than is  teachers  . the scramble to survive financially  the insightful students who can see right through their pathetic teachers  pomp  the pettiness of the whole situation  all remind me of the schools i knew and their students . when i saw the episode in which a student repeatedly tried to burn down the school  i immediately recalled . . . . . . . . . at . . . . . . . . . . high . a classic line inspector i  m here to sack one of your teachers . student welcome to bromwell high . i expect that many adults of my age think that bromwell high is far fetched . what a pity that it isn  t   \n",
      "story of a man who has unnatural feelings for a pig . starts out with a opening scene that is a terrific example of absurd comedy . a formal orchestra audience is turn\n",
      "\n",
      "positive\n",
      "negative\n",
      "po\n"
     ]
    }
   ],
   "source": [
    "import numpy as np\n",
    "\n",
    "#Membaca data text\n",
    "\n",
    "with open('data/reviews.txt', 'r') as f:\n",
    "    reviews = f.read()\n",
    "with open('data/labels.txt', 'r') as f:\n",
    "    labels = f.read()\n",
    "\n",
    "print(reviews[:1000])\n",
    "print()\n",
    "print(labels[:20])\n",
    "    \n",
    "    "
   ]
  },
  {
   "cell_type": "code",
   "execution_count": 5,
   "metadata": {},
   "outputs": [],
   "source": [
    "from string import punctuation\n",
    "\n",
    "reviews = reviews.lower() #Standarisasi huruf kecil\n",
    "allText = ''.join([\n",
    "    c for c in reviews\n",
    "    if c not in punctuation\n",
    "])\n",
    "\n",
    "#Memisahkan dengan baris baru dan spasi\n",
    "\n",
    "reviewsSplit = allText.split('\\n')\n",
    "allText = ' '.join(reviewsSplit)\n",
    "\n",
    "#Buat list kosa kata\n",
    "words = allText.split()"
   ]
  },
  {
   "cell_type": "code",
   "execution_count": 6,
   "metadata": {},
   "outputs": [
    {
     "data": {
      "text/plain": [
       "['bromwell',\n",
       " 'high',\n",
       " 'is',\n",
       " 'a',\n",
       " 'cartoon',\n",
       " 'comedy',\n",
       " 'it',\n",
       " 'ran',\n",
       " 'at',\n",
       " 'the',\n",
       " 'same',\n",
       " 'time',\n",
       " 'as',\n",
       " 'some',\n",
       " 'other',\n",
       " 'programs',\n",
       " 'about',\n",
       " 'school',\n",
       " 'life',\n",
       " 'such',\n",
       " 'as',\n",
       " 'teachers',\n",
       " 'my',\n",
       " 'years',\n",
       " 'in',\n",
       " 'the',\n",
       " 'teaching',\n",
       " 'profession',\n",
       " 'lead',\n",
       " 'me']"
      ]
     },
     "execution_count": 6,
     "metadata": {},
     "output_type": "execute_result"
    }
   ],
   "source": [
    "words[:30]"
   ]
  },
  {
   "cell_type": "code",
   "execution_count": 7,
   "metadata": {},
   "outputs": [],
   "source": [
    "#Encoding kata\n",
    "\n",
    "from collections import Counter\n",
    "\n",
    "#Membuat kamus untuk memetakan kata ke integer\n",
    "\n",
    "counts = Counter(words)\n",
    "vocab = sorted(counts, key = counts.get, reverse = True)\n",
    "vocabToInt = {\n",
    "    word: ii for ii, word in enumerate(vocab, 1)\n",
    "}\n",
    "\n",
    "# Gunakan kamus untuk menoken setiap review di dalam reviewsSplit\n",
    "# Simpan tokneized reviews di reviewsInt\n",
    "\n",
    "reviewsInts = []\n",
    "for review in reviewsSplit:\n",
    "    reviewsInts.append([\n",
    "        vocabToInt[word]\n",
    "        for word in review.split()\n",
    "    ])"
   ]
  },
  {
   "cell_type": "code",
   "execution_count": 8,
   "metadata": {},
   "outputs": [
    {
     "name": "stdout",
     "output_type": "stream",
     "text": [
      "Kata Unik : 74072\n",
      "\n",
      "Review Token : \n",
      " [[21025, 308, 6, 3, 1050, 207, 8, 2138, 32, 1, 171, 57, 15, 49, 81, 5785, 44, 382, 110, 140, 15, 5194, 60, 154, 9, 1, 4975, 5852, 475, 71, 5, 260, 12, 21025, 308, 13, 1978, 6, 74, 2395, 5, 613, 73, 6, 5194, 1, 24103, 5, 1983, 10166, 1, 5786, 1499, 36, 51, 66, 204, 145, 67, 1199, 5194, 19869, 1, 37442, 4, 1, 221, 883, 31, 2988, 71, 4, 1, 5787, 10, 686, 2, 67, 1499, 54, 10, 216, 1, 383, 9, 62, 3, 1406, 3686, 783, 5, 3483, 180, 1, 382, 10, 1212, 13583, 32, 308, 3, 349, 341, 2913, 10, 143, 127, 5, 7690, 30, 4, 129, 5194, 1406, 2326, 5, 21025, 308, 10, 528, 12, 109, 1448, 4, 60, 543, 102, 12, 21025, 308, 6, 227, 4146, 48, 3, 2211, 12, 8, 215, 23]]\n"
     ]
    }
   ],
   "source": [
    "#Testing code\n",
    "\n",
    "#status kamus\n",
    "print('Kata Unik :', len((vocabToInt)))\n",
    "print()\n",
    "\n",
    "#print token di review pertama\n",
    "print('Review Token : \\n', reviewsInts[:1])"
   ]
  },
  {
   "cell_type": "code",
   "execution_count": 9,
   "metadata": {},
   "outputs": [],
   "source": [
    "#Encoding Labels\n",
    "#labels bisa Positif atau negatif tergantung 0 atau 1\n",
    "\n",
    "#  1 = positif, 0 = negatif\n",
    "labelsSplit = labels.split('\\n')\n",
    "encodedLabels = np.array(\n",
    "[\n",
    "    1 if \n",
    "    label == 'positive'\n",
    "    else 0 \n",
    "    for label in labelsSplit\n",
    "])"
   ]
  },
  {
   "cell_type": "code",
   "execution_count": 11,
   "metadata": {},
   "outputs": [
    {
     "name": "stdout",
     "output_type": "stream",
     "text": [
      "review yang kosong : 1\n",
      "review terpanjang : 2514\n"
     ]
    }
   ],
   "source": [
    "#menghapus Outline\n",
    "\n",
    "reviewLens = Counter([\n",
    "    len(x) for x in reviewsInts\n",
    "])\n",
    "\n",
    "print(\"review yang kosong : {}\".format(reviewLens[0]))\n",
    "print(\"review terpanjang : {}\".format(max(reviewLens)))"
   ]
  },
  {
   "cell_type": "code",
   "execution_count": 15,
   "metadata": {},
   "outputs": [
    {
     "name": "stdout",
     "output_type": "stream",
     "text": [
      "Jumlah Reviews sebelum menghapus outline : 25001\n",
      "Jumlah reviews setelah menghapus outline : 25000\n"
     ]
    }
   ],
   "source": [
    "print('Jumlah Reviews sebelum menghapus outline :', len(reviewsInts))\n",
    "\n",
    "# Hapus review / label yang kosong dari array reviewsInts \n",
    "\n",
    "# get index di review dengan panjang 0\n",
    "\n",
    "nonZeroIdx = [\n",
    "    ii for ii,\n",
    "    review in enumerate(reviewsInts)\n",
    "    if len(review) != 0\n",
    "]\n",
    "\n",
    "#Hapus reviews yang panjang = 0 dan label nya\n",
    "reviewsInts = [\n",
    "    reviewsInts[ii]\n",
    "    for ii in nonZeroIdx\n",
    "]\n",
    "\n",
    "encodedLabels = np.array(\n",
    "[\n",
    "    encodedLabels[ii] for ii in nonZeroIdx\n",
    "])\n",
    "\n",
    "print('Jumlah reviews setelah menghapus outline :',\n",
    "     len(reviewsInts))"
   ]
  },
  {
   "cell_type": "code",
   "execution_count": 19,
   "metadata": {},
   "outputs": [],
   "source": [
    "# buat fungsi untuk padding sequence\n",
    "def padfeatures(reviewsInts, seqLength):\n",
    "    \n",
    "    #menagmbil bentuk baris dan colom yg benar\n",
    "    features = np.zeros((len(reviewsInts), seqLength), dtype = int)\n",
    "    \n",
    "    # setiap reviews ambil review nya\n",
    "    for i, row in enumerate(reviewsInts):\n",
    "        features[i, -len(row):] = np.array(row)[:seqLength]\n",
    "        \n",
    "    return features"
   ]
  },
  {
   "cell_type": "code",
   "execution_count": 20,
   "metadata": {},
   "outputs": [
    {
     "name": "stdout",
     "output_type": "stream",
     "text": [
      "[[    0     0     0     0     0     0     0     0     0     0]\n",
      " [    0     0     0     0     0     0     0     0     0     0]\n",
      " [22382    42 46418    15   706 17139  3389    47    77    35]\n",
      " [ 4505   505    15     3  3342   162  8312  1652     6  4819]\n",
      " [    0     0     0     0     0     0     0     0     0     0]\n",
      " [    0     0     0     0     0     0     0     0     0     0]\n",
      " [    0     0     0     0     0     0     0     0     0     0]\n",
      " [    0     0     0     0     0     0     0     0     0     0]\n",
      " [    0     0     0     0     0     0     0     0     0     0]\n",
      " [   54    10    14   116    60   798   552    71   364     5]\n",
      " [    0     0     0     0     0     0     0     0     0     0]\n",
      " [    0     0     0     0     0     0     0     0     0     0]\n",
      " [    0     0     0     0     0     0     0     0     0     0]\n",
      " [    1   330   578    34     3   162   748  2731     9   325]\n",
      " [    9    11 10171  5305  1946   689   444    22   280   673]\n",
      " [    0     0     0     0     0     0     0     0     0     0]\n",
      " [    1   307 10399  2069  1565  6202  6528  3288 17946 10628]\n",
      " [    0     0     0     0     0     0     0     0     0     0]\n",
      " [   21   122  2069  1565   515  8181    88     6  1325  1182]\n",
      " [    1    20     6    76    40     6    58    81    95     5]\n",
      " [   54    10    84   329 26230 46427    63    10    14   614]\n",
      " [   11    20     6    30  1436 32317  3769   690 15100     6]\n",
      " [    0     0     0     0     0     0     0     0     0     0]\n",
      " [    0     0     0     0     0     0     0     0     0     0]\n",
      " [   40    26   109 17952  1422     9     1   327     4   125]\n",
      " [    0     0     0     0     0     0     0     0     0     0]\n",
      " [   10   499     1   307 10399    55    74     8    13    30]\n",
      " [    0     0     0     0     0     0     0     0     0     0]\n",
      " [    0     0     0     0     0     0     0     0     0     0]\n",
      " [    0     0     0     0     0     0     0     0     0     0]]\n"
     ]
    }
   ],
   "source": [
    "seqLength = 200\n",
    "features = padfeatures(reviewsInts, seqLength = seqLength)\n",
    "\n",
    "assert len(features) == len(reviewsInts), \"Fitur ini harus mempunyai banyak nya baris sesuai dengan review\"\n",
    "assert len(features[0]) == seqLength, \"Setiap baris fitur harus terdapat nilai panjang sequence\"\n",
    "\n",
    "#cetak 10 nilai dari 30 batch\n",
    "print(features[:30, :10])"
   ]
  },
  {
   "cell_type": "code",
   "execution_count": null,
   "metadata": {},
   "outputs": [],
   "source": []
  }
 ],
 "metadata": {
  "kernelspec": {
   "display_name": "Python 3",
   "language": "python",
   "name": "python3"
  },
  "language_info": {
   "codemirror_mode": {
    "name": "ipython",
    "version": 3
   },
   "file_extension": ".py",
   "mimetype": "text/x-python",
   "name": "python",
   "nbconvert_exporter": "python",
   "pygments_lexer": "ipython3",
   "version": "3.6.7"
  }
 },
 "nbformat": 4,
 "nbformat_minor": 2
}
